{
 "cells": [
  {
   "cell_type": "markdown",
   "id": "379642df",
   "metadata": {},
   "source": [
    "# Задание 1\n",
    "Имеется текстовый файл f.csv, по формату похожий на .csv с разделителем |\n",
    "\n",
    "lastname|name|patronymic|date_of_birth|id\n",
    "\n",
    "Фамилия1|Имя1|Отчество1 |21.11.1998 |312040348-3048\n",
    "\n",
    "Фамилия2|Имя2|Отчество2 |11.01.1972 |457865234-3431\n",
    "\n",
    "...\n",
    "\n",
    "## 1. Реализовать сбор уникальных записей\n",
    "\n",
    "## 2. Случается, что под одиннаковым id присутствуют разные данные - найти такие записи"
   ]
  },
  {
   "cell_type": "code",
   "execution_count": 1,
   "id": "05113530",
   "metadata": {},
   "outputs": [
    {
     "name": "stdout",
     "output_type": "stream",
     "text": [
      "Уникальные записи\n"
     ]
    },
    {
     "data": {
      "text/html": [
       "<div>\n",
       "<style scoped>\n",
       "    .dataframe tbody tr th:only-of-type {\n",
       "        vertical-align: middle;\n",
       "    }\n",
       "\n",
       "    .dataframe tbody tr th {\n",
       "        vertical-align: top;\n",
       "    }\n",
       "\n",
       "    .dataframe thead th {\n",
       "        text-align: right;\n",
       "    }\n",
       "</style>\n",
       "<table border=\"1\" class=\"dataframe\">\n",
       "  <thead>\n",
       "    <tr style=\"text-align: right;\">\n",
       "      <th></th>\n",
       "      <th>lastname</th>\n",
       "      <th>name</th>\n",
       "      <th>patronymic</th>\n",
       "      <th>date_of_birth</th>\n",
       "    </tr>\n",
       "  </thead>\n",
       "  <tbody>\n",
       "    <tr>\n",
       "      <th>312040348-3048</th>\n",
       "      <td>Иванов</td>\n",
       "      <td>Иван</td>\n",
       "      <td>Иванович</td>\n",
       "      <td>21.11.1998</td>\n",
       "    </tr>\n",
       "    <tr>\n",
       "      <th>457865234-3431</th>\n",
       "      <td>Петров</td>\n",
       "      <td>Петр</td>\n",
       "      <td>Петрович</td>\n",
       "      <td>11.01.2972</td>\n",
       "    </tr>\n",
       "    <tr>\n",
       "      <th>323445345-7646</th>\n",
       "      <td>Сидоров</td>\n",
       "      <td>Сидор</td>\n",
       "      <td>Сидорович</td>\n",
       "      <td>12.12.1992</td>\n",
       "    </tr>\n",
       "  </tbody>\n",
       "</table>\n",
       "</div>"
      ],
      "text/plain": [
       "               lastname   name patronymic date_of_birth\n",
       "312040348-3048   Иванов   Иван   Иванович    21.11.1998\n",
       "457865234-3431   Петров   Петр   Петрович    11.01.2972\n",
       "323445345-7646  Сидоров  Сидор  Сидорович    12.12.1992"
      ]
     },
     "metadata": {},
     "output_type": "display_data"
    },
    {
     "name": "stdout",
     "output_type": "stream",
     "text": [
      "\n",
      "Дубликаты\n"
     ]
    },
    {
     "data": {
      "text/html": [
       "<div>\n",
       "<style scoped>\n",
       "    .dataframe tbody tr th:only-of-type {\n",
       "        vertical-align: middle;\n",
       "    }\n",
       "\n",
       "    .dataframe tbody tr th {\n",
       "        vertical-align: top;\n",
       "    }\n",
       "\n",
       "    .dataframe thead th {\n",
       "        text-align: right;\n",
       "    }\n",
       "</style>\n",
       "<table border=\"1\" class=\"dataframe\">\n",
       "  <thead>\n",
       "    <tr style=\"text-align: right;\">\n",
       "      <th></th>\n",
       "      <th>lastname</th>\n",
       "      <th>name</th>\n",
       "      <th>patronymic</th>\n",
       "      <th>date_of_birth</th>\n",
       "    </tr>\n",
       "  </thead>\n",
       "  <tbody>\n",
       "    <tr>\n",
       "      <th>312040348-3048</th>\n",
       "      <td>Иванов</td>\n",
       "      <td>Иван</td>\n",
       "      <td>Иванович</td>\n",
       "      <td>21.11.1998</td>\n",
       "    </tr>\n",
       "    <tr>\n",
       "      <th>312040348-3048</th>\n",
       "      <td>Пупкин</td>\n",
       "      <td>Иван</td>\n",
       "      <td>Петрович</td>\n",
       "      <td>14.11.1986</td>\n",
       "    </tr>\n",
       "  </tbody>\n",
       "</table>\n",
       "</div>"
      ],
      "text/plain": [
       "               lastname  name patronymic date_of_birth\n",
       "312040348-3048   Иванов  Иван   Иванович    21.11.1998\n",
       "312040348-3048   Пупкин  Иван   Петрович    14.11.1986"
      ]
     },
     "execution_count": 1,
     "metadata": {},
     "output_type": "execute_result"
    }
   ],
   "source": [
    "import pandas as pd\n",
    "\n",
    "unique_records = {} # Словарь для хранения уникальных записей\n",
    "duplicated_records = [] # Список для хранения дубликатов\n",
    "\n",
    "df = pd.read_csv('task1.csv', delimiter='|', index_col='id') # Чтение csv файла\n",
    "for index, row in df.iterrows():\n",
    "    if index not in unique_records:\n",
    "        unique_records[index] = row # Сбор уникальных записей\n",
    "    else:\n",
    "        duplicated_records.append(unique_records[index]) # Сбор дубликатов\n",
    "        duplicated_records.append(row)\n",
    "\n",
    "print('Уникальные записи')\n",
    "display(pd.DataFrame(unique_records).transpose()) # Вывод уникальных записей\n",
    "print('\\nДубликаты')\n",
    "pd.DataFrame(duplicated_records) # Вывод дубликатов"
   ]
  },
  {
   "cell_type": "markdown",
   "id": "a501d634",
   "metadata": {},
   "source": [
    "# Задание 2\n",
    "\n",
    "В наличии список множеств. внутри множества целые числа. Посчитать:\n",
    "1. общее количество чисел\n",
    "2. общую сумму чисел\n",
    "3. посчитать среднее значение\n",
    "4. собрать все множества в один кортеж\n",
    "\n",
    "m = [{11, 3, 5}, {2, 17, 87, 32}, {4, 44}, {24, 11, 9, 7, 8}]"
   ]
  },
  {
   "cell_type": "code",
   "execution_count": 2,
   "id": "a425feb0",
   "metadata": {},
   "outputs": [
    {
     "name": "stdout",
     "output_type": "stream",
     "text": [
      "Общее количество чисел:  14\n",
      "Общая сумма чисел:  264\n",
      "Среднее значение:  18.857142857142858\n",
      "Все значения в одном кортеже:  (11, 3, 5, 32, 17, 2, 87, 4, 44, 7, 8, 9, 11, 24)\n"
     ]
    }
   ],
   "source": [
    "m = [{11, 3, 5}, {2, 17, 87, 32}, {4, 44}, {24, 11, 9, 7, 8}]\n",
    "\n",
    "#1. Общее количество чисел\n",
    "N = sum([len(s) for s in m])\n",
    "print('Общее количество чисел: ', N)\n",
    "\n",
    "#2. Общая сумма чисел\n",
    "S = sum(sum(s) for s in m)\n",
    "print('Общая сумма чисел: ', S)\n",
    "\n",
    "#3. Среднее значение\n",
    "print('Среднее значение: ', S / N)\n",
    "\n",
    "#4. Собрать все значения в один кортеж\n",
    "l = []\n",
    "for i in m:\n",
    "    for j in i:\n",
    "        l.append(j)\n",
    "print('Все значения в одном кортеже: ', tuple(l))"
   ]
  },
  {
   "cell_type": "markdown",
   "id": "7372afbe",
   "metadata": {},
   "source": [
    "# Задание 3\n",
    "\n",
    "Имеется список списков\n",
    "\n",
    "a = [[1,2,3], [4,5,6]]\n",
    "\n",
    "Сделать список словарей\n",
    "\n",
    "b = [{'k1': 1, 'k2': 2, 'k3': 3}, {'k1': 4, 'k2': 5, 'k3': 6}]"
   ]
  },
  {
   "cell_type": "code",
   "execution_count": 3,
   "id": "067c50ec",
   "metadata": {},
   "outputs": [
    {
     "name": "stdout",
     "output_type": "stream",
     "text": [
      "[{'k1': 1, 'k2': 2, 'k3': 3}, {'k1': 4, 'k2': 5, 'k3': 6}]\n"
     ]
    }
   ],
   "source": [
    "a = [[1, 2, 3], [4, 5, 6]]\n",
    "b = [] # Создаем пустой список для записи словарей\n",
    "for i in a:\n",
    "    counter = 1 # Создаем счетчик для записи ключа\n",
    "    b_dict = {} # Создаем словарь для записи значений\n",
    "    for j in i:\n",
    "        b_dict[f'k{counter}'] = j # Запись значений в словарь\n",
    "        counter += 1 # Инкремент счетчика\n",
    "    b.append(b_dict) # Запись словаря в новый список\n",
    "\n",
    "print(b) # Вывод нового списка"
   ]
  },
  {
   "cell_type": "markdown",
   "id": "990c9845",
   "metadata": {},
   "source": [
    "# Задание 4\n",
    "\n",
    "Имеется папка с файлами\n",
    "\n",
    "Реализовать удаление файлов старше N дней"
   ]
  },
  {
   "cell_type": "code",
   "execution_count": 4,
   "id": "4988a676",
   "metadata": {},
   "outputs": [],
   "source": [
    "import os\n",
    "import time\n",
    "\n",
    "now = time.time() #Текущее время\n",
    "path = './task4/' # Путь к папке\n",
    "N = 1 # Количество дней\n",
    "\n",
    "files_list = [file for file in os.listdir(path) if os.path.isfile(path+file)] # Получаем список всех файлов в папке\n",
    "for file in files_list:\n",
    "    creation_date = os.path.getctime(path+file) # Получаем дату создания файла\n",
    "    if (now - creation_date) // 86400 >= N: # Проверка возраста файла в днях\n",
    "        os.remove(path+file)"
   ]
  },
  {
   "cell_type": "markdown",
   "id": "878c89c5",
   "metadata": {},
   "source": [
    "# Задание 5*\n",
    "\n",
    "Имеется текстовый файл с набором русских слов(имена существительные, им.падеж)\n",
    "\n",
    "Одна строка файла содержит одно слово.\n",
    "\n",
    "Написать программу которая выводит список слов, каждый элемент списка которого - это новое слово, которое состоит из двух сцепленных в одно, которые имеются в текстовом файле."
   ]
  },
  {
   "cell_type": "code",
   "execution_count": 5,
   "id": "63d9d8ac",
   "metadata": {},
   "outputs": [],
   "source": [
    "# установка библиотеки для работы со словами\n",
    "# pip install pyphen "
   ]
  },
  {
   "cell_type": "code",
   "execution_count": 6,
   "id": "b7ab9cde",
   "metadata": {},
   "outputs": [
    {
     "name": "stdout",
     "output_type": "stream",
     "text": [
      "Введите слово: ласты\n",
      "ластык\n",
      "ластыковка\n"
     ]
    }
   ],
   "source": [
    "import pyphen # Импорт библиотеки для разбиения строк по слогам\n",
    "\n",
    "def divide_into_syllables(word): # функция для разбиения слов по слогам\n",
    "    dic = pyphen.Pyphen(lang='ru_RU')\n",
    "    syllables = dic.inserted(word).split('-')\n",
    "    return syllables\n",
    "\n",
    "path = 'task5.txt'\n",
    "with open(path, 'r', encoding='utf-8') as f:\n",
    "    words = [line.strip() for line in f] # запись слов из файла в список\n",
    "user_word = str(input('Введите слово: '))\n",
    "last = divide_into_syllables(user_word)[-1] # вычисляем последний слог введенного слова\n",
    "\n",
    "try:\n",
    "    prelast = divide_into_syllables(user_word)[-2] # вычисляем предпоследний слог введенного слова\n",
    "except IndexError:\n",
    "    prelast = '' # обработка в случае, если слово состоит из 1 слога\n",
    "\n",
    "for word in words:\n",
    "    start = divide_into_syllables(word)[0] # вычисляем 1 слог слова из списка\n",
    "    try:\n",
    "        second = divide_into_syllables(word)[1] # вычисляем 2 слог слова из списка\n",
    "    except IndexError:\n",
    "        second = '' # обработка в случае, если слово состоит из 1 слога\n",
    "    '''если сопадает последний слог введенного слова и первый слог текущего слова, тогда выводим результат,\n",
    "    прибавляем к введенному слову нужную часть текущего слова'''\n",
    "    if last in start and user_word != word:\n",
    "        print(user_word+word.replace(last, ''))\n",
    "    '''если сопадают предпоследний и последний слог введенного слова, а также первый и второй слог слова,\n",
    "    тогда выводим результат, прибавляем к введенному слову нужную часть слова'''\n",
    "    if prelast+last in start+second and user_word != word:\n",
    "        print(user_word+word.replace(prelast+last, ''))"
   ]
  },
  {
   "cell_type": "code",
   "execution_count": null,
   "id": "29ebd6e8",
   "metadata": {},
   "outputs": [],
   "source": []
  }
 ],
 "metadata": {
  "kernelspec": {
   "display_name": "Python 3 (ipykernel)",
   "language": "python",
   "name": "python3"
  },
  "language_info": {
   "codemirror_mode": {
    "name": "ipython",
    "version": 3
   },
   "file_extension": ".py",
   "mimetype": "text/x-python",
   "name": "python",
   "nbconvert_exporter": "python",
   "pygments_lexer": "ipython3",
   "version": "3.11.5"
  }
 },
 "nbformat": 4,
 "nbformat_minor": 5
}
